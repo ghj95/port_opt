{
 "cells": [
  {
   "cell_type": "code",
   "execution_count": 1,
   "id": "e47ef256-6679-4659-890c-02fd75d43b0f",
   "metadata": {},
   "outputs": [
    {
     "name": "stderr",
     "output_type": "stream",
     "text": [
      "2025-01-30 20:44:29.541 \n",
      "  \u001b[33m\u001b[1mWarning:\u001b[0m to view this Streamlit app on a browser, run it with the following\n",
      "  command:\n",
      "\n",
      "    streamlit run /opt/anaconda3/lib/python3.11/site-packages/ipykernel_launcher.py [ARGUMENTS]\n"
     ]
    }
   ],
   "source": [
    "import streamlit as st\n",
    "import pandas as pd\n",
    "import numpy as np\n",
    "import yfinance as yf\n",
    "import matplotlib.pyplot as plt\n",
    "import cvxpy as cp\n",
    "\n",
    "# Load asset data\n",
    "st.title(\"📊 Portfolio Optimization & Risk Analysis\")\n",
    "\n",
    "st.sidebar.header(\"Select Assets & Parameters\")\n",
    "assets = st.sidebar.multiselect(\"Select Stocks:\", [\"AAPL\", \"MSFT\", \"GOOGL\", \"AMZN\", \"TSLA\", \"NFLX\"], [\"AAPL\", \"MSFT\", \"GOOGL\"])\n",
    "start_date = st.sidebar.date_input(\"Start Date\", pd.to_datetime(\"2019-01-01\"))\n",
    "end_date = st.sidebar.date_input(\"End Date\", pd.to_datetime(\"2024-01-01\"))\n",
    "\n",
    "if st.sidebar.button(\"Fetch Data\"):\n",
    "    st.sidebar.success(\"Fetching stock data...\")\n",
    "\n",
    "    # Fetch stock data\n",
    "    data = yf.download(assets, start=start_date, end=end_date)['Adj Close']\n",
    "    st.write(\"### Stock Price Data\")\n",
    "    st.line_chart(data)\n",
    "\n",
    "    # Compute returns\n",
    "    returns = data.pct_change().dropna()\n",
    "    mean_returns = returns.mean()\n",
    "    cov_matrix = returns.cov()\n",
    "\n",
    "    # Portfolio optimization\n",
    "    n_assets = len(assets)\n",
    "    w = cp.Variable(n_assets)\n",
    "    expected_return = mean_returns.values @ w\n",
    "    portfolio_risk = cp.quad_form(w, cov_matrix.values)\n",
    "    objective = cp.Maximize(expected_return - 0.5 * portfolio_risk)\n",
    "    constraints = [cp.sum(w) == 1, w >= 0]\n",
    "    problem = cp.Problem(objective, constraints)\n",
    "    problem.solve()\n",
    "\n",
    "    # Display optimal weights\n",
    "    optimal_weights = pd.Series(w.value, index=assets)\n",
    "    st.write(\"### Optimal Portfolio Weights\")\n",
    "    st.bar_chart(optimal_weights)\n",
    "\n",
    "    # Compute risk metrics\n",
    "    portfolio_returns = returns @ optimal_weights\n",
    "    VaR_95 = np.percentile(portfolio_returns, 5)\n",
    "    CVaR_95 = portfolio_returns[portfolio_returns <= VaR_95].mean()\n",
    "\n",
    "    st.write(f\"📉 **Value at Risk (VaR 95%):** {VaR_95:.4f}\")\n",
    "    st.write(f\"⚠️ **Conditional Value at Risk (CVaR 95%):** {CVaR_95:.4f}\")\n",
    "\n",
    "    # Plot Efficient Frontier\n",
    "    n_portfolios = 1000\n",
    "    results = np.zeros((3, n_portfolios))\n",
    "    for i in range(n_portfolios):\n",
    "        weights = np.random.dirichlet(np.ones(n_assets))\n",
    "        port_return = np.dot(mean_returns, weights)\n",
    "        port_volatility = np.sqrt(weights @ cov_matrix @ weights)\n",
    "        results[0, i] = port_return\n",
    "        results[1, i] = port_volatility\n",
    "        results[2, i] = port_return / port_volatility\n",
    "\n",
    "    # Extract optimal portfolio\n",
    "    sharpe_max_idx = results[2].argmax()\n",
    "    sharpe_max_return = results[0, sharpe_max_idx]\n",
    "    sharpe_max_volatility = results[1, sharpe_max_idx]\n",
    "\n",
    "    fig, ax = plt.subplots()\n",
    "    ax.scatter(results[1, :], results[0, :], c=results[2, :], cmap='viridis', alpha=0.3)\n",
    "    ax.scatter(sharpe_max_volatility, sharpe_max_return, color='red', marker='*', s=200, label=\"Max Sharpe Ratio\")\n",
    "    ax.set_xlabel(\"Risk (Volatility)\")\n",
    "    ax.set_ylabel(\"Expected Return\")\n",
    "    ax.set_title(\"Efficient Frontier\")\n",
    "    ax.legend()\n",
    "    st.pyplot(fig)"
   ]
  },
  {
   "cell_type": "code",
   "execution_count": null,
   "id": "61bcd105-126a-4d90-84cd-0a160d6cc58a",
   "metadata": {},
   "outputs": [],
   "source": []
  }
 ],
 "metadata": {
  "kernelspec": {
   "display_name": "Python 3 (ipykernel)",
   "language": "python",
   "name": "python3"
  },
  "language_info": {
   "codemirror_mode": {
    "name": "ipython",
    "version": 3
   },
   "file_extension": ".py",
   "mimetype": "text/x-python",
   "name": "python",
   "nbconvert_exporter": "python",
   "pygments_lexer": "ipython3",
   "version": "3.11.7"
  }
 },
 "nbformat": 4,
 "nbformat_minor": 5
}
